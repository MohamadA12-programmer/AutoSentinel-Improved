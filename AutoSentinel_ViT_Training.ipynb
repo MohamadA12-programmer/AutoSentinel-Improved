{
 "cells": [
  {
   "cell_type": "markdown",
   "id": "1c545837",
   "metadata": {},
   "source": [
    "# 🛡️ AutoSentinel Advanced Vision Transformer Training\n",
    "\n",
    "This notebook implements the Advanced Vision Transformer (ViT) for network traffic analysis with:\n",
    "- Multi-head attention mechanism\n",
    "- Layer normalization\n",
    "- Advanced data augmentation\n",
    "- Adaptive learning rate scheduling\n",
    "\n",
    "## Setup and Installation"
   ]
  },
  {
   "cell_type": "code",
   "execution_count": null,
   "id": "c075eb12",
   "metadata": {},
   "outputs": [],
   "source": [
    "# Mount Google Drive\n",
    "from google.colab import drive\n",
    "drive.mount('/content/drive')\n",
    "\n",
    "# Clone the repository\n",
    "!git clone https://github.com/MohamadA12-programmer/AutoSentinel-Improved.git\n",
    "!cd AutoSentinel-Improved\n",
    "\n",
    "# Install required packages\n",
    "!pip install -r requirements.txt"
   ]
  },
  {
   "cell_type": "markdown",
   "id": "d229916d",
   "metadata": {},
   "source": [
    "## Import Required Libraries"
   ]
  },
  {
   "cell_type": "code",
   "execution_count": null,
   "id": "6826c5a0",
   "metadata": {},
   "outputs": [],
   "source": [
    "import json\n",
    "import os\n",
    "import random\n",
    "import math\n",
    "import time\n",
    "from datetime import datetime, timedelta\n",
    "from pathlib import Path\n",
    "import logging\n",
    "import numpy as np\n",
    "from tqdm.notebook import tqdm\n",
    "\n",
    "# Configure logging\n",
    "logging.basicConfig(level=logging.INFO)\n",
    "logger = logging.getLogger(__name__)"
   ]
  },
  {
   "cell_type": "markdown",
   "id": "c2975e5e",
   "metadata": {},
   "source": [
    "## Helper Functions"
   ]
  },
  {
   "cell_type": "code",
   "execution_count": null,
   "id": "772f3fc6",
   "metadata": {},
   "outputs": [],
   "source": [
    "def format_time(seconds):\n",
    "    \"\"\"Format time in seconds to HH:MM:SS\"\"\"\n",
    "    return str(timedelta(seconds=int(seconds)))\n",
    "\n",
    "# Copy the AdvancedViT class here\n",
    "class AdvancedViT:\n",
    "    # [Copy the entire AdvancedViT class from train_vit_advanced.py]\n",
    "    pass\n",
    "\n",
    "# Copy the AdvancedViTTrainer class here\n",
    "class AdvancedViTTrainer:\n",
    "    # [Copy the entire AdvancedViTTrainer class from train_vit_advanced.py]\n",
    "    pass"
   ]
  },
  {
   "cell_type": "markdown",
   "id": "d3a5f23f",
   "metadata": {},
   "source": [
    "## Prepare Data"
   ]
  },
  {
   "cell_type": "code",
   "execution_count": null,
   "id": "75afad71",
   "metadata": {},
   "outputs": [],
   "source": [
    "# Run data preparation script\n",
    "!python scripts/prepare_vit.py\n",
    "\n",
    "# Verify data is prepared\n",
    "print(\"Checking visualization data...\")\n",
    "vis_path = Path(\"data/visualizations/visualization_data.json\")\n",
    "if vis_path.exists():\n",
    "    print(\"✅ Visualization data ready\")\n",
    "    with open(vis_path) as f:\n",
    "        data = json.load(f)\n",
    "    print(f\"Found {len(data)} samples\")\n",
    "else:\n",
    "    print(\"❌ Visualization data not found\")"
   ]
  },
  {
   "cell_type": "markdown",
   "id": "deb64d6f",
   "metadata": {},
   "source": [
    "## Train the Model"
   ]
  },
  {
   "cell_type": "code",
   "execution_count": null,
   "id": "665b0c00",
   "metadata": {},
   "outputs": [],
   "source": [
    "# Initialize trainer\n",
    "trainer = AdvancedViTTrainer()\n",
    "\n",
    "# Train model with advanced architecture\n",
    "model = trainer.train_model(epochs=50, learning_rate=0.002)\n",
    "\n",
    "if model:\n",
    "    print(f\"\\n🎯 Advanced Training Results:\")\n",
    "    print(f\"Final Training Accuracy: {model.training_accuracy:.3f}\")\n",
    "    print(f\"Final Validation Accuracy: {model.validation_accuracy:.3f}\")\n",
    "    print(f\"Model saved to: models/vit/\")"
   ]
  },
  {
   "cell_type": "markdown",
   "id": "208ba8b8",
   "metadata": {},
   "source": [
    "## Test the Model"
   ]
  },
  {
   "cell_type": "code",
   "execution_count": null,
   "id": "332bbee1",
   "metadata": {},
   "outputs": [],
   "source": [
    "# Test prediction on sample\n",
    "print(f\"\\n🔍 Testing model prediction...\")\n",
    "test_image = [[random.uniform(0, 1) for _ in range(16)] for _ in range(16)]\n",
    "prediction = model.predict(test_image)\n",
    "\n",
    "# Find label name\n",
    "label_name = \"Unknown\"\n",
    "for name, idx in trainer.label_mapping.items():\n",
    "    if idx == prediction:\n",
    "        label_name = name\n",
    "        break\n",
    "\n",
    "print(f\"Sample prediction: {label_name} (class {prediction})\")"
   ]
  }
 ],
 "metadata": {
  "language_info": {
   "name": "python"
  }
 },
 "nbformat": 4,
 "nbformat_minor": 5
}
